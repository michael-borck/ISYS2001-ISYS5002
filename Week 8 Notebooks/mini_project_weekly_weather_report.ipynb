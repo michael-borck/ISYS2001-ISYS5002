{
 "cells": [
  {
   "cell_type": "markdown",
   "metadata": {
    "id": "view-in-github",
    "colab_type": "text"
   },
   "source": [
    "<a href=\"https://colab.research.google.com/github/michael-borck/ISYS2001-ISYS5002/blob/main/Week%207%20Notebooks/mini_project_weekly_weather_report.ipynb\" target=\"_parent\"><img src=\"https://colab.research.google.com/assets/colab-badge.svg\" alt=\"Open In Colab\"/></a>"
   ]
  },
  {
   "cell_type": "markdown",
   "id": "965cd739",
   "metadata": {
    "id": "965cd739"
   },
   "source": [
    "# Mini Project: Generate a Weekly Weather Report\n",
    "**Create a summary report using real-world-style data**\n",
    "\n",
    "## Project Overview\n",
    "\n",
    "In this mini project, you'll use your skills with **pandas** to create a weekly weather summary report.\n",
    "\n",
    "You'll be given a dataset with daily weather data. Your task is to:\n",
    "- Clean the data (e.g. handle missing values or outliers)\n",
    "- Group the data by week\n",
    "- Calculate summary statistics (e.g. average temperature, total rainfall)\n",
    "- Generate a readable report for each week\n",
    "\n",
    "This project will help you build confidence using `pandas` for real-world tasks and give you something to showcase in your portfolio!\n",
    "\n",
    "> 💡 This is a **beginner-friendly** project. No need to use advanced libraries — just `pandas`, what you've already practiced.\n"
   ]
  },
  {
   "cell_type": "markdown",
   "id": "32a9b41a",
   "metadata": {
    "id": "32a9b41a"
   },
   "source": [
    "## Project Objectives\n",
    "\n",
    "By completing this project, you will:\n",
    "- Practice loading and cleaning a CSV file.\n",
    "- Use grouping and aggregation to calculate weekly statistics.\n",
    "- Apply basic data manipulation and inspection techniques.\n",
    "- Create a readable report showing weekly weather summaries.\n"
   ]
  },
  {
   "cell_type": "markdown",
   "id": "f8f1f00d",
   "metadata": {
    "id": "f8f1f00d"
   },
   "source": [
    "## Step 1: Load the Weather Data\n",
    "\n",
    "Start by loading the dataset below. It contains one row per day and includes columns like:\n",
    "\n",
    "- `date`: The day of the weather recording\n",
    "- `temperature`: Daily average temperature (°C)\n",
    "- `rainfall`: Daily rainfall (mm)\n",
    "- `humidity`: Daily average humidity (%)\n",
    "\n",
    "Use `pandas` to load and preview the data.\n"
   ]
  },
  {
   "cell_type": "code",
   "execution_count": null,
   "id": "f7305e60",
   "metadata": {
    "id": "f7305e60"
   },
   "outputs": [],
   "source": [
    "import pandas as pd\n",
    "\n",
    "# Load the sample data (replace this if you're using your own file)\n",
    "df = pd.read_csv('weather_data.csv')\n",
    "\n",
    "# TODO: Preview the first few rows\n",
    "df.head()"
   ]
  },
  {
   "cell_type": "markdown",
   "id": "93f7c7f7",
   "metadata": {
    "id": "93f7c7f7"
   },
   "source": [
    "## Step 2: Clean the Data\n",
    "\n",
    "Use your knowledge from earlier worksheets to:\n",
    "- Drop missing values\n",
    "- (Optional) Filter out extreme outliers in temperature or rainfall\n",
    "\n",
    "You can use `.dropna()`, `.describe()`, or other methods you've learned.\n"
   ]
  },
  {
   "cell_type": "code",
   "execution_count": null,
   "id": "e2c2ba90",
   "metadata": {
    "id": "e2c2ba90"
   },
   "outputs": [],
   "source": [
    "# TODO: Clean the data\n",
    "# Example skeleton code:\n",
    "# df = df.dropna()\n",
    "# Q1 = ...\n",
    "# Q3 = ...\n",
    "# IQR = ...\n",
    "# Filter by IQR if needed\n"
   ]
  },
  {
   "cell_type": "markdown",
   "id": "61892355",
   "metadata": {
    "id": "61892355"
   },
   "source": [
    "## Step 3: Group the Data by Week\n",
    "\n",
    "You'll need to group the daily data into **weeks**.\n",
    "\n",
    "Hint: Convert the `date` column to datetime, then use `.dt.isocalendar().week` to extract the week number.\n",
    "\n",
    "Calculate for each week:\n",
    "- Average temperature\n",
    "- Total rainfall\n",
    "- Average humidity\n"
   ]
  },
  {
   "cell_type": "code",
   "execution_count": null,
   "id": "b4b701e4",
   "metadata": {
    "id": "b4b701e4"
   },
   "outputs": [],
   "source": [
    "# TODO: Convert date column\n",
    "# df['date'] = pd.to_datetime(df['date'])\n",
    "\n",
    "# TODO: Extract week number\n",
    "# df['Week'] = df['date'].dt.isocalendar().week\n",
    "\n",
    "# TODO: Group and summarise\n",
    "# weekly_summary = df.groupby('Week')[['temperature', 'rainfall', 'humidity']].agg(['mean', 'sum'])\n",
    "\n",
    "# weekly_summary.head()\n"
   ]
  },
  {
   "cell_type": "markdown",
   "id": "ea1c1477",
   "metadata": {
    "id": "ea1c1477"
   },
   "source": [
    "## Step 4: Generate the Report\n",
    "\n",
    "Format your output in a clean way:\n",
    "- Show one row per week\n",
    "- Include labels and units\n",
    "- Round numbers for readability (e.g. 1 decimal place)\n",
    "\n",
    "You can use `.round()` and `.rename()` to improve presentation.\n",
    "\n",
    "This step is all about making your output useful and clear!\n"
   ]
  },
  {
   "cell_type": "code",
   "execution_count": null,
   "id": "0a610c03",
   "metadata": {
    "id": "0a610c03"
   },
   "outputs": [],
   "source": [
    "# TODO: Clean up the final output\n",
    "# Example: weekly_summary.round(1)\n",
    "# Add labels if needed\n"
   ]
  },
  {
   "cell_type": "markdown",
   "id": "96216101",
   "metadata": {
    "id": "96216101"
   },
   "source": [
    "## Reflection\n",
    "\n",
    "Take a moment to reflect:\n",
    "\n",
    "- What part of this project did you find easiest?\n",
    "- What part challenged you the most?\n",
    "- If you used AI or search to help, what did you learn from it?\n"
   ]
  }
 ],
 "metadata": {
  "language": "python",
  "colab": {
   "provenance": [],
   "include_colab_link": true
  }
 },
 "nbformat": 4,
 "nbformat_minor": 5
}
