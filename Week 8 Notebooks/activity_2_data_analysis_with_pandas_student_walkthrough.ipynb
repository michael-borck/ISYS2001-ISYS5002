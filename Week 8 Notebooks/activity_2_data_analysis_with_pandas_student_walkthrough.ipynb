{
 "cells": [
  {
   "cell_type": "markdown",
   "metadata": {
    "id": "view-in-github",
    "colab_type": "text"
   },
   "source": [
    "<a href=\"https://colab.research.google.com/github/michael-borck/ISYS2001-ISYS5002/blob/main/Week%207%20Notebooks/activity_2_data_analysis_with_pandas_student_walkthrough.ipynb\" target=\"_parent\"><img src=\"https://colab.research.google.com/assets/colab-badge.svg\" alt=\"Open In Colab\"/></a>"
   ]
  },
  {
   "cell_type": "markdown",
   "id": "52f38e09",
   "metadata": {
    "id": "52f38e09"
   },
   "source": [
    "# Guided Data Analysis with Pandas\n",
    "**A Step-by-Step Walkthrough with Explanations**\n",
    "\n",
    "## Learning Objectives\n",
    "- Learn to load and inspect real-world data using pandas.\n",
    "- Understand and clean missing or extreme values using guided examples.\n",
    "- Build skills in reasoning about data quality and cleaning logic.\n"
   ]
  },
  {
   "cell_type": "markdown",
   "id": "cb71f917",
   "metadata": {
    "id": "cb71f917"
   },
   "source": [
    "## Introduction\n",
    "\n",
    "In this worksheet, you’ll walk through a realistic data analysis task.  \n",
    "Each step is explained and broken into parts to help you understand *what*, *how*, and *why* we do it.\n",
    "\n",
    "We’ll work with a sample sales dataset and explore:\n",
    "- Loading and previewing data\n",
    "- Finding and removing missing values\n",
    "- Detecting and filtering outliers using the IQR method\n",
    "\n",
    "You’ll be encouraged to stop, observe output, and reflect along the way!\n"
   ]
  },
  {
   "cell_type": "code",
   "execution_count": null,
   "id": "29f1d989",
   "metadata": {
    "id": "29f1d989"
   },
   "outputs": [],
   "source": [
    "import pandas as pd"
   ]
  },
  {
   "cell_type": "markdown",
   "id": "accfb55e",
   "metadata": {
    "id": "accfb55e"
   },
   "source": [
    "## Step 1: Load the Data\n",
    "\n",
    "Let’s start by loading the sales dataset from a CSV file.  \n",
    "Replace `'sales_data.csv'` with your file name if needed.\n"
   ]
  },
  {
   "cell_type": "code",
   "execution_count": null,
   "id": "f0f95947",
   "metadata": {
    "id": "f0f95947"
   },
   "outputs": [],
   "source": [
    "# Load dataset\n",
    "df = pd.read_csv('sales_data.csv')\n",
    "\n",
    "# Print the first few rows\n",
    "df.head()"
   ]
  },
  {
   "cell_type": "markdown",
   "id": "31eb87ed",
   "metadata": {
    "id": "31eb87ed"
   },
   "source": [
    "### 🔍 Checkpoint:\n",
    "- What columns do you see?\n",
    "- What does each row represent?\n"
   ]
  },
  {
   "cell_type": "markdown",
   "id": "fb04f1d2",
   "metadata": {
    "id": "fb04f1d2"
   },
   "source": [
    "## Step 2: Inspect the DataFrame\n",
    "\n",
    "Check the overall structure using `.info()` and `.describe()`.  \n",
    "This tells you about:\n",
    "- Missing values\n",
    "- Column data types\n",
    "- Summary statistics (like average, min, max)\n"
   ]
  },
  {
   "cell_type": "code",
   "execution_count": null,
   "id": "1cf12119",
   "metadata": {
    "id": "1cf12119"
   },
   "outputs": [],
   "source": [
    "df.info()"
   ]
  },
  {
   "cell_type": "code",
   "execution_count": null,
   "id": "568d0e65",
   "metadata": {
    "id": "568d0e65"
   },
   "outputs": [],
   "source": [
    "df.describe()"
   ]
  },
  {
   "cell_type": "markdown",
   "id": "34759fd7",
   "metadata": {
    "id": "34759fd7"
   },
   "source": [
    "### 🧠 Think About:\n",
    "- Are any columns missing lots of data?\n",
    "- Do any values look unusually large or small?\n"
   ]
  },
  {
   "cell_type": "markdown",
   "id": "84cd8d35",
   "metadata": {
    "id": "84cd8d35"
   },
   "source": [
    "## Step 3: Remove Missing Values\n",
    "\n",
    "Missing values can mess up calculations or visualisations.  \n",
    "Let’s remove any rows with missing values using `.dropna()`.\n"
   ]
  },
  {
   "cell_type": "code",
   "execution_count": null,
   "id": "74fcba75",
   "metadata": {
    "id": "74fcba75"
   },
   "outputs": [],
   "source": [
    "# Drop missing rows\n",
    "df_clean = df.dropna()\n",
    "\n",
    "# Compare size before and after\n",
    "print(\"Original rows:\", len(df))\n",
    "print(\"Cleaned rows:\", len(df_clean))\n",
    "\n",
    "# Preview cleaned data\n",
    "df_clean.head()"
   ]
  },
  {
   "cell_type": "markdown",
   "id": "3df71d51",
   "metadata": {
    "id": "3df71d51"
   },
   "source": [
    "### 🧠 Why Do This?\n",
    "If you don’t remove or handle missing values, some functions (like `.mean()`) may not work properly.\n"
   ]
  },
  {
   "cell_type": "markdown",
   "id": "83c9f92d",
   "metadata": {
    "id": "83c9f92d"
   },
   "source": [
    "## Step 4: Remove Outliers Using IQR\n",
    "\n",
    "Outliers are extreme values that can distort your analysis.  \n",
    "We’ll use a common method called the **IQR Rule**:\n",
    "\n",
    "1. Find Q1 (25th percentile) and Q3 (75th percentile).\n",
    "2. Calculate IQR = Q3 - Q1.\n",
    "3. Define a valid range:\n",
    "    - Lower bound = Q1 - 1.5 × IQR  \n",
    "    - Upper bound = Q3 + 1.5 × IQR\n",
    "4. Keep only rows within that range.\n"
   ]
  },
  {
   "cell_type": "code",
   "execution_count": null,
   "id": "9d828b7c",
   "metadata": {
    "id": "9d828b7c"
   },
   "outputs": [],
   "source": [
    "# Step-by-step: calculate bounds\n",
    "Q1 = df_clean['sales'].quantile(0.25)\n",
    "Q3 = df_clean['sales'].quantile(0.75)\n",
    "IQR = Q3 - Q1\n",
    "\n",
    "lower_bound = Q1 - 1.5 * IQR\n",
    "upper_bound = Q3 + 1.5 * IQR\n",
    "\n",
    "print(\"Lower bound:\", lower_bound)\n",
    "print(\"Upper bound:\", upper_bound)\n"
   ]
  },
  {
   "cell_type": "code",
   "execution_count": null,
   "id": "5e2991ff",
   "metadata": {
    "id": "5e2991ff"
   },
   "outputs": [],
   "source": [
    "# Filter out rows outside the bounds\n",
    "df_filtered = df_clean[(df_clean['sales'] >= lower_bound) & (df_clean['sales'] <= upper_bound)]\n",
    "\n",
    "print(\"Rows before filtering:\", len(df_clean))\n",
    "print(\"Rows after filtering:\", len(df_filtered))\n",
    "\n",
    "# Preview final cleaned data\n",
    "df_filtered.head()"
   ]
  },
  {
   "cell_type": "markdown",
   "id": "fff1858d",
   "metadata": {
    "id": "fff1858d"
   },
   "source": [
    "### 🔍 Checkpoint:\n",
    "- How many rows were removed as outliers?\n",
    "- Do the remaining values seem more consistent?\n"
   ]
  },
  {
   "cell_type": "markdown",
   "id": "f8f97a7c",
   "metadata": {
    "id": "f8f97a7c"
   },
   "source": [
    "## Step 5 (Optional): Group Sales by Month\n",
    "\n",
    "If your data has a `'date'` column, we can extract the month and summarise sales.\n"
   ]
  },
  {
   "cell_type": "code",
   "execution_count": null,
   "id": "b66f268c",
   "metadata": {
    "id": "b66f268c"
   },
   "outputs": [],
   "source": [
    "# Convert to datetime if needed\n",
    "df_filtered['date'] = pd.to_datetime(df_filtered['date'])\n",
    "\n",
    "# Extract month number\n",
    "df_filtered['Month'] = df_filtered['date'].dt.month\n",
    "\n",
    "# Group and summarise sales\n",
    "monthly_sales = df_filtered.groupby('Month')['sales'].sum()\n",
    "monthly_sales"
   ]
  },
  {
   "cell_type": "markdown",
   "id": "a8cb9f88",
   "metadata": {
    "id": "a8cb9f88"
   },
   "source": [
    "## Reflection\n",
    "\n",
    "- What did you learn about identifying and cleaning data?\n",
    "- Was there a step that confused you at first? How did you resolve it?\n",
    "- How would you explain the IQR method to a classmate?\n"
   ]
  }
 ],
 "metadata": {
  "language": "python",
  "colab": {
   "provenance": [],
   "include_colab_link": true
  }
 },
 "nbformat": 4,
 "nbformat_minor": 5
}
