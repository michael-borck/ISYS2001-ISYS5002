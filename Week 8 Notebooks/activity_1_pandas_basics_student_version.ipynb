{
 "cells": [
  {
   "cell_type": "markdown",
   "metadata": {
    "id": "view-in-github",
    "colab_type": "text"
   },
   "source": [
    "<a href=\"https://colab.research.google.com/github/michael-borck/ISYS2001-ISYS5002/blob/main/Week%207%20Notebooks/activity_1_pandas_basics_student_version.ipynb\" target=\"_parent\"><img src=\"https://colab.research.google.com/assets/colab-badge.svg\" alt=\"Open In Colab\"/></a>"
   ]
  },
  {
   "cell_type": "markdown",
   "id": "ce896cb6",
   "metadata": {
    "id": "ce896cb6"
   },
   "source": [
    "# Pandas Basics: A Friendly Introduction for Beginners\n",
    "**Learn how to organise and analyse data using Python and Pandas**\n",
    "\n",
    "## Learning Objectives\n",
    "- Understand what pandas is and why it's useful.\n",
    "- Learn how to create and explore DataFrames.\n",
    "- Use pandas to perform simple calculations and data manipulations.\n"
   ]
  },
  {
   "cell_type": "markdown",
   "id": "94a857f1",
   "metadata": {
    "id": "94a857f1"
   },
   "source": [
    "## What is Pandas?\n",
    "\n",
    "Pandas is a Python library that helps you work with structured data (like tables).  \n",
    "It makes it easier to clean, organise, and analyse data, especially large amounts!\n",
    "\n",
    "You’ve already worked with lists and dictionaries—pandas builds on these ideas.\n",
    "\n",
    "### Installing and Importing\n",
    "\n",
    "If you're using Google Colab or most notebooks, pandas is already installed. But here's how you'd install it:\n",
    "\n",
    "```python\n",
    "!pip install pandas\n",
    "```\n",
    "\n",
    "Now let's import it:\n"
   ]
  },
  {
   "cell_type": "code",
   "execution_count": null,
   "id": "14b75443",
   "metadata": {
    "id": "14b75443"
   },
   "outputs": [],
   "source": [
    "import pandas as pd  # pd is a common shortcut name"
   ]
  },
  {
   "cell_type": "markdown",
   "id": "2f5d64ae",
   "metadata": {
    "id": "2f5d64ae"
   },
   "source": [
    "## Creating a Simple DataFrame\n",
    "\n",
    "Let’s start with a dictionary of lists—something you already know!\n",
    "Fill in the code below to create a DataFrame from this data.\n"
   ]
  },
  {
   "cell_type": "code",
   "execution_count": null,
   "id": "92aa0e0e",
   "metadata": {
    "id": "92aa0e0e"
   },
   "outputs": [],
   "source": [
    "# TODO: Create a dictionary of lists\n",
    "data = {\n",
    "    'Month': ['January', 'February', 'March'],\n",
    "    'Product A': [120, 134, 145],\n",
    "    'Product B': [90, 100, 110],\n",
    "    'Product C': [140, 150, 160]\n",
    "}\n",
    "\n",
    "# TODO: Convert to a DataFrame\n",
    "df = pd.DataFrame(data)\n",
    "\n",
    "# Show the table\n",
    "df"
   ]
  },
  {
   "cell_type": "markdown",
   "id": "207b8c31",
   "metadata": {
    "id": "207b8c31"
   },
   "source": [
    "## Exploring Your DataFrame\n",
    "\n",
    "Use these pandas functions to explore your table:\n",
    "- `.head()` – shows the first few rows\n",
    "- `.info()` – gives an overview of the data\n",
    "- `.describe()` – gives summary statistics\n",
    "\n",
    "Try them below:\n"
   ]
  },
  {
   "cell_type": "code",
   "execution_count": null,
   "id": "930c6e20",
   "metadata": {
    "id": "930c6e20"
   },
   "outputs": [],
   "source": [
    "# Try these one at a time\n",
    "df.head()\n",
    "# df.info()\n",
    "# df.describe()"
   ]
  },
  {
   "cell_type": "markdown",
   "id": "f3922ab1",
   "metadata": {
    "id": "f3922ab1"
   },
   "source": [
    "## Accessing Columns and Rows\n",
    "\n",
    "You can access a column like this:\n",
    "```python\n",
    "df['Product A']\n",
    "```\n",
    "\n",
    "Or get a single row using `.iloc`:\n",
    "```python\n",
    "df.iloc[0]  # first row\n",
    "```\n",
    "\n",
    "Try it:\n"
   ]
  },
  {
   "cell_type": "code",
   "execution_count": null,
   "id": "a986cec6",
   "metadata": {
    "id": "a986cec6"
   },
   "outputs": [],
   "source": [
    "# TODO: Print just the 'Product B' column\n",
    "# TODO: Print the second row\n"
   ]
  },
  {
   "cell_type": "markdown",
   "id": "b06e1be2",
   "metadata": {
    "id": "b06e1be2"
   },
   "source": [
    "## Adding New Columns\n",
    "\n",
    "You can create new columns using math on existing ones.\n",
    "Let’s calculate **total sales** and **average sales** for each month.\n"
   ]
  },
  {
   "cell_type": "code",
   "execution_count": null,
   "id": "bac0d324",
   "metadata": {
    "id": "bac0d324"
   },
   "outputs": [],
   "source": [
    "# TODO: Add a column for total sales across all products\n",
    "# df['Total Sales'] = ...\n",
    "\n",
    "# TODO: Add a column for average sales\n",
    "# df['Average Sales'] = ...\n",
    "\n",
    "# Show your updated table\n",
    "df"
   ]
  },
  {
   "cell_type": "markdown",
   "id": "ad4380b7",
   "metadata": {
    "id": "ad4380b7"
   },
   "source": [
    "## 🧠 Challenge: Find the Top Month and Product\n",
    "\n",
    "- Which month had the highest total sales?\n",
    "- Which product sold the most overall?\n",
    "\n",
    "(Hint: use `.sum()` and `.idxmax()`)\n",
    "\n",
    "Try writing your own code below.\n"
   ]
  },
  {
   "cell_type": "code",
   "execution_count": null,
   "id": "5f3e3a7e",
   "metadata": {
    "id": "5f3e3a7e"
   },
   "outputs": [],
   "source": [
    "# Your code here"
   ]
  },
  {
   "cell_type": "markdown",
   "id": "8c8523e4",
   "metadata": {
    "id": "8c8523e4"
   },
   "source": [
    "## Reflection\n",
    "\n",
    "- What part of pandas felt familiar from lists or dictionaries?\n",
    "- What did you find tricky or confusing?\n",
    "- Did you use AI or search for help? If yes, what did you learn from it?\n"
   ]
  }
 ],
 "metadata": {
  "language": "python",
  "colab": {
   "provenance": [],
   "include_colab_link": true
  }
 },
 "nbformat": 4,
 "nbformat_minor": 5
}
