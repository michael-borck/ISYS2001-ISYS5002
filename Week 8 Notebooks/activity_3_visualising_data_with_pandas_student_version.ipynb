{
 "cells": [
  {
   "cell_type": "markdown",
   "metadata": {
    "id": "view-in-github",
    "colab_type": "text"
   },
   "source": [
    "<a href=\"https://colab.research.google.com/github/michael-borck/ISYS2001-ISYS5002/blob/main/Week%207%20Notebooks/activity_3_visualising_data_with_pandas_student_version.ipynb\" target=\"_parent\"><img src=\"https://colab.research.google.com/assets/colab-badge.svg\" alt=\"Open In Colab\"/></a>"
   ]
  },
  {
   "cell_type": "markdown",
   "id": "d9249d82",
   "metadata": {
    "id": "d9249d82"
   },
   "source": [
    "# Visualising Business Data with Pandas\n",
    "**See the Story Behind the Numbers**\n",
    "\n",
    "## Learning Objectives\n",
    "- Create basic visualisations using pandas' built-in plotting.\n",
    "- Understand when to use line charts vs bar charts.\n",
    "- Build confidence exploring and presenting data.\n",
    "\n"
   ]
  },
  {
   "cell_type": "markdown",
   "id": "af639946",
   "metadata": {
    "id": "af639946"
   },
   "source": [
    "## Introduction\n",
    "\n",
    "Visualising your data helps you find patterns, spot problems, and communicate results.  \n",
    "In this worksheet, you'll use **pandas** to create simple plots like:\n",
    "\n",
    "- Line charts to show trends over time\n",
    "- Bar charts to compare items or categories\n",
    "\n",
    "You do **not** need to learn a new library like `matplotlib` yet — pandas uses it behind the scenes for you!\n",
    "\n"
   ]
  },
  {
   "cell_type": "code",
   "execution_count": null,
   "id": "eb8d53ed",
   "metadata": {
    "id": "eb8d53ed"
   },
   "outputs": [],
   "source": [
    "import pandas as pd\n",
    "\n",
    "# If you are using Jupyter or Colab, plots will show up in the notebook\n",
    "%matplotlib inline\n"
   ]
  },
  {
   "cell_type": "markdown",
   "source": [
    "> `%matplotlib inline` is a special command used in Jupyter Notebooks to make sure that plots created with the `matplotlib` library appear directly below the code cells that produce them. This is especially useful when you're working in traditional Jupyter environments (like JupyterLab), because it ensures that your charts are embedded inside the notebook for easy viewing and documentation. In platforms like Google Colab, this behavior is enabled automatically, so you typically don't need to include the command—though it won't cause any problems if you do."
   ],
   "metadata": {
    "id": "TCX6FC60J7cc"
   },
   "id": "TCX6FC60J7cc"
  },
  {
   "cell_type": "markdown",
   "id": "529bc187",
   "metadata": {
    "id": "529bc187"
   },
   "source": [
    "## Activity 1: Plot Monthly Sales with a Line Chart\n",
    "\n",
    "Line charts are great for showing changes over time.  \n",
    "You’ll plot total monthly sales to spot any trends.\n",
    "\n",
    "### Example Data:"
   ]
  },
  {
   "cell_type": "code",
   "execution_count": null,
   "id": "434bea64",
   "metadata": {
    "id": "434bea64"
   },
   "outputs": [],
   "source": [
    "data = {\n",
    "    'Month': ['January', 'February', 'March', 'April', 'May'],\n",
    "    'Total Sales': [450, 510, 580, 610, 590]\n",
    "}\n",
    "\n",
    "df = pd.DataFrame(data)\n",
    "df"
   ]
  },
  {
   "cell_type": "markdown",
   "id": "13ff3009",
   "metadata": {
    "id": "13ff3009"
   },
   "source": [
    "### Your Task:\n",
    "- Use `.plot()` to create a line chart\n",
    "- Add a title, and labels for the X and Y axes\n",
    "\n",
    "💡 You can do something like this:\n",
    "```python\n",
    "df.plot(x='Month', y='Total Sales', kind='line', title='Monthly Sales')\n",
    "```\n"
   ]
  },
  {
   "cell_type": "code",
   "execution_count": null,
   "id": "33896f96",
   "metadata": {
    "id": "33896f96"
   },
   "outputs": [],
   "source": [
    "# TODO: Create your line chart here\n"
   ]
  },
  {
   "cell_type": "markdown",
   "id": "ab376e80",
   "metadata": {
    "id": "ab376e80"
   },
   "source": [
    "## Activity 2: Compare Products with a Bar Chart\n",
    "\n",
    "Bar charts are great for comparing amounts across categories.\n",
    "\n",
    "You’ve got total units sold for four products. Use a bar chart to find the best seller.\n"
   ]
  },
  {
   "cell_type": "code",
   "execution_count": null,
   "id": "31812e8a",
   "metadata": {
    "id": "31812e8a"
   },
   "outputs": [],
   "source": [
    "product_data = {\n",
    "    'Product': ['A', 'B', 'C', 'D'],\n",
    "    'Units Sold': [1200, 900, 1350, 1100]\n",
    "}\n",
    "\n",
    "product_df = pd.DataFrame(product_data)\n",
    "product_df"
   ]
  },
  {
   "cell_type": "markdown",
   "id": "bdadba3b",
   "metadata": {
    "id": "bdadba3b"
   },
   "source": [
    "### Your Task:\n",
    "- Use `.plot(kind='bar')` to compare products\n",
    "- Set `x='Product'` and `y='Units Sold'`\n",
    "- Add a title and axis labels\n",
    "\n",
    "Hint: You can set `legend=False` to keep it simple.\n"
   ]
  },
  {
   "cell_type": "code",
   "execution_count": null,
   "id": "a93034a3",
   "metadata": {
    "id": "a93034a3"
   },
   "outputs": [],
   "source": [
    "# TODO: Create your bar chart here\n"
   ]
  },
  {
   "cell_type": "markdown",
   "id": "b9b71011",
   "metadata": {
    "id": "b9b71011"
   },
   "source": [
    "## Extension Challenge: Grouped Bar Chart (Optional)\n",
    "\n",
    "If you have grouped sales by month and product in earlier activities, try plotting those.\n",
    "\n",
    "Ideas:\n",
    "- Show multiple products across months\n",
    "- Use `df.plot(kind='bar', stacked=True)` for a stacked view\n",
    "\n",
    "You’ll need a DataFrame with months as the index and product names as columns.\n",
    "\n",
    "This is optional — explore and experiment!\n"
   ]
  },
  {
   "cell_type": "markdown",
   "id": "69438989",
   "metadata": {
    "id": "69438989"
   },
   "source": [
    "## Reflection\n",
    "\n",
    "- What’s one insight you gained by seeing the data visually?\n",
    "- Which chart type felt easier to understand: line or bar?\n",
    "- Did you use AI for help? If so, what did you learn from it?\n",
    "\n"
   ]
  }
 ],
 "metadata": {
  "language": "python",
  "colab": {
   "provenance": [],
   "include_colab_link": true
  }
 },
 "nbformat": 4,
 "nbformat_minor": 5
}
